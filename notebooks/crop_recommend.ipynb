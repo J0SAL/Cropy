{
  "nbformat": 4,
  "nbformat_minor": 0,
  "metadata": {
    "colab": {
      "name": "crop_recommend.ipynb",
      "provenance": [],
      "collapsed_sections": [
        "b3N6UoaftTL_",
        "DrmhVuvV4C_I",
        "WhTiFclctaFn",
        "EzfitpyLb7bw"
      ],
      "authorship_tag": "ABX9TyMDoK7rrOGj7rkMblOiCCRj",
      "include_colab_link": true
    },
    "kernelspec": {
      "name": "python3",
      "display_name": "Python 3"
    },
    "language_info": {
      "name": "python"
    }
  },
  "cells": [
    {
      "cell_type": "markdown",
      "metadata": {
        "id": "view-in-github",
        "colab_type": "text"
      },
      "source": [
        "<a href=\"https://colab.research.google.com/github/J0SAL/Cropy/blob/main/notebooks/crop_recommend.ipynb\" target=\"_parent\"><img src=\"https://colab.research.google.com/assets/colab-badge.svg\" alt=\"Open In Colab\"/></a>"
      ]
    },
    {
      "cell_type": "markdown",
      "source": [
        "Actions Preformed: \n",
        "# Preparing model for **Crop Recommendation**"
      ],
      "metadata": {
        "id": "52mRmZEmOuAl"
      }
    },
    {
      "cell_type": "code",
      "execution_count": null,
      "metadata": {
        "id": "EEW3rFij4kki"
      },
      "outputs": [],
      "source": [
        "import pandas as pd\n",
        "import numpy as np\n",
        "import matplotlib.pyplot as plt\n",
        "%matplotlib inline\n",
        "import seaborn as sns\n",
        "from sklearn import metrics\n",
        "from sklearn.model_selection import cross_val_score\n",
        "from sklearn.preprocessing import StandardScaler\n",
        "\n",
        "import pickle"
      ]
    },
    {
      "cell_type": "code",
      "source": [
        "crop = pd.read_csv('/content/crop_recommendation.csv')"
      ],
      "metadata": {
        "id": "FBcMjqt4AgdL"
      },
      "execution_count": null,
      "outputs": []
    },
    {
      "cell_type": "markdown",
      "source": [
        "# EDA"
      ],
      "metadata": {
        "id": "tV68HFpZqzsx"
      }
    },
    {
      "cell_type": "code",
      "source": [
        "crop.head()"
      ],
      "metadata": {
        "colab": {
          "base_uri": "https://localhost:8080/",
          "height": 206
        },
        "id": "CXJFlpdjAgfG",
        "outputId": "9c4d60d7-2503-40ca-8b2d-e41c9ff1d8d9"
      },
      "execution_count": null,
      "outputs": [
        {
          "output_type": "execute_result",
          "data": {
            "text/html": [
              "<div>\n",
              "<style scoped>\n",
              "    .dataframe tbody tr th:only-of-type {\n",
              "        vertical-align: middle;\n",
              "    }\n",
              "\n",
              "    .dataframe tbody tr th {\n",
              "        vertical-align: top;\n",
              "    }\n",
              "\n",
              "    .dataframe thead th {\n",
              "        text-align: right;\n",
              "    }\n",
              "</style>\n",
              "<table border=\"1\" class=\"dataframe\">\n",
              "  <thead>\n",
              "    <tr style=\"text-align: right;\">\n",
              "      <th></th>\n",
              "      <th>N</th>\n",
              "      <th>P</th>\n",
              "      <th>K</th>\n",
              "      <th>temperature</th>\n",
              "      <th>humidity</th>\n",
              "      <th>ph</th>\n",
              "      <th>rainfall</th>\n",
              "      <th>label</th>\n",
              "    </tr>\n",
              "  </thead>\n",
              "  <tbody>\n",
              "    <tr>\n",
              "      <th>0</th>\n",
              "      <td>90</td>\n",
              "      <td>42</td>\n",
              "      <td>43</td>\n",
              "      <td>20.879744</td>\n",
              "      <td>82.002744</td>\n",
              "      <td>6.502985</td>\n",
              "      <td>202.935536</td>\n",
              "      <td>rice</td>\n",
              "    </tr>\n",
              "    <tr>\n",
              "      <th>1</th>\n",
              "      <td>85</td>\n",
              "      <td>58</td>\n",
              "      <td>41</td>\n",
              "      <td>21.770462</td>\n",
              "      <td>80.319644</td>\n",
              "      <td>7.038096</td>\n",
              "      <td>226.655537</td>\n",
              "      <td>rice</td>\n",
              "    </tr>\n",
              "    <tr>\n",
              "      <th>2</th>\n",
              "      <td>60</td>\n",
              "      <td>55</td>\n",
              "      <td>44</td>\n",
              "      <td>23.004459</td>\n",
              "      <td>82.320763</td>\n",
              "      <td>7.840207</td>\n",
              "      <td>263.964248</td>\n",
              "      <td>rice</td>\n",
              "    </tr>\n",
              "    <tr>\n",
              "      <th>3</th>\n",
              "      <td>74</td>\n",
              "      <td>35</td>\n",
              "      <td>40</td>\n",
              "      <td>26.491096</td>\n",
              "      <td>80.158363</td>\n",
              "      <td>6.980401</td>\n",
              "      <td>242.864034</td>\n",
              "      <td>rice</td>\n",
              "    </tr>\n",
              "    <tr>\n",
              "      <th>4</th>\n",
              "      <td>78</td>\n",
              "      <td>42</td>\n",
              "      <td>42</td>\n",
              "      <td>20.130175</td>\n",
              "      <td>81.604873</td>\n",
              "      <td>7.628473</td>\n",
              "      <td>262.717340</td>\n",
              "      <td>rice</td>\n",
              "    </tr>\n",
              "  </tbody>\n",
              "</table>\n",
              "</div>"
            ],
            "text/plain": [
              "    N   P   K  temperature   humidity        ph    rainfall label\n",
              "0  90  42  43    20.879744  82.002744  6.502985  202.935536  rice\n",
              "1  85  58  41    21.770462  80.319644  7.038096  226.655537  rice\n",
              "2  60  55  44    23.004459  82.320763  7.840207  263.964248  rice\n",
              "3  74  35  40    26.491096  80.158363  6.980401  242.864034  rice\n",
              "4  78  42  42    20.130175  81.604873  7.628473  262.717340  rice"
            ]
          },
          "metadata": {},
          "execution_count": 75
        }
      ]
    },
    {
      "cell_type": "code",
      "source": [
        "crop.info()"
      ],
      "metadata": {
        "colab": {
          "base_uri": "https://localhost:8080/"
        },
        "id": "BIzrsIWViG_w",
        "outputId": "d4f948d7-8241-42a7-e980-2e33fdeb2159"
      },
      "execution_count": null,
      "outputs": [
        {
          "output_type": "stream",
          "name": "stdout",
          "text": [
            "<class 'pandas.core.frame.DataFrame'>\n",
            "RangeIndex: 2200 entries, 0 to 2199\n",
            "Data columns (total 8 columns):\n",
            " #   Column       Non-Null Count  Dtype  \n",
            "---  ------       --------------  -----  \n",
            " 0   N            2200 non-null   int64  \n",
            " 1   P            2200 non-null   int64  \n",
            " 2   K            2200 non-null   int64  \n",
            " 3   temperature  2200 non-null   float64\n",
            " 4   humidity     2200 non-null   float64\n",
            " 5   ph           2200 non-null   float64\n",
            " 6   rainfall     2200 non-null   float64\n",
            " 7   label        2200 non-null   object \n",
            "dtypes: float64(4), int64(3), object(1)\n",
            "memory usage: 137.6+ KB\n"
          ]
        }
      ]
    },
    {
      "cell_type": "code",
      "source": [
        "crop.describe()"
      ],
      "metadata": {
        "colab": {
          "base_uri": "https://localhost:8080/",
          "height": 300
        },
        "id": "AiNHPnILiOyI",
        "outputId": "4e505874-ca23-47ce-b825-90ceb20635b2"
      },
      "execution_count": null,
      "outputs": [
        {
          "output_type": "execute_result",
          "data": {
            "text/html": [
              "<div>\n",
              "<style scoped>\n",
              "    .dataframe tbody tr th:only-of-type {\n",
              "        vertical-align: middle;\n",
              "    }\n",
              "\n",
              "    .dataframe tbody tr th {\n",
              "        vertical-align: top;\n",
              "    }\n",
              "\n",
              "    .dataframe thead th {\n",
              "        text-align: right;\n",
              "    }\n",
              "</style>\n",
              "<table border=\"1\" class=\"dataframe\">\n",
              "  <thead>\n",
              "    <tr style=\"text-align: right;\">\n",
              "      <th></th>\n",
              "      <th>N</th>\n",
              "      <th>P</th>\n",
              "      <th>K</th>\n",
              "      <th>temperature</th>\n",
              "      <th>humidity</th>\n",
              "      <th>ph</th>\n",
              "      <th>rainfall</th>\n",
              "    </tr>\n",
              "  </thead>\n",
              "  <tbody>\n",
              "    <tr>\n",
              "      <th>count</th>\n",
              "      <td>2200.000000</td>\n",
              "      <td>2200.000000</td>\n",
              "      <td>2200.000000</td>\n",
              "      <td>2200.000000</td>\n",
              "      <td>2200.000000</td>\n",
              "      <td>2200.000000</td>\n",
              "      <td>2200.000000</td>\n",
              "    </tr>\n",
              "    <tr>\n",
              "      <th>mean</th>\n",
              "      <td>50.551818</td>\n",
              "      <td>53.362727</td>\n",
              "      <td>48.149091</td>\n",
              "      <td>25.616244</td>\n",
              "      <td>71.481779</td>\n",
              "      <td>6.469480</td>\n",
              "      <td>103.463655</td>\n",
              "    </tr>\n",
              "    <tr>\n",
              "      <th>std</th>\n",
              "      <td>36.917334</td>\n",
              "      <td>32.985883</td>\n",
              "      <td>50.647931</td>\n",
              "      <td>5.063749</td>\n",
              "      <td>22.263812</td>\n",
              "      <td>0.773938</td>\n",
              "      <td>54.958389</td>\n",
              "    </tr>\n",
              "    <tr>\n",
              "      <th>min</th>\n",
              "      <td>0.000000</td>\n",
              "      <td>5.000000</td>\n",
              "      <td>5.000000</td>\n",
              "      <td>8.825675</td>\n",
              "      <td>14.258040</td>\n",
              "      <td>3.504752</td>\n",
              "      <td>20.211267</td>\n",
              "    </tr>\n",
              "    <tr>\n",
              "      <th>25%</th>\n",
              "      <td>21.000000</td>\n",
              "      <td>28.000000</td>\n",
              "      <td>20.000000</td>\n",
              "      <td>22.769375</td>\n",
              "      <td>60.261953</td>\n",
              "      <td>5.971693</td>\n",
              "      <td>64.551686</td>\n",
              "    </tr>\n",
              "    <tr>\n",
              "      <th>50%</th>\n",
              "      <td>37.000000</td>\n",
              "      <td>51.000000</td>\n",
              "      <td>32.000000</td>\n",
              "      <td>25.598693</td>\n",
              "      <td>80.473146</td>\n",
              "      <td>6.425045</td>\n",
              "      <td>94.867624</td>\n",
              "    </tr>\n",
              "    <tr>\n",
              "      <th>75%</th>\n",
              "      <td>84.250000</td>\n",
              "      <td>68.000000</td>\n",
              "      <td>49.000000</td>\n",
              "      <td>28.561654</td>\n",
              "      <td>89.948771</td>\n",
              "      <td>6.923643</td>\n",
              "      <td>124.267508</td>\n",
              "    </tr>\n",
              "    <tr>\n",
              "      <th>max</th>\n",
              "      <td>140.000000</td>\n",
              "      <td>145.000000</td>\n",
              "      <td>205.000000</td>\n",
              "      <td>43.675493</td>\n",
              "      <td>99.981876</td>\n",
              "      <td>9.935091</td>\n",
              "      <td>298.560117</td>\n",
              "    </tr>\n",
              "  </tbody>\n",
              "</table>\n",
              "</div>"
            ],
            "text/plain": [
              "                 N            P  ...           ph     rainfall\n",
              "count  2200.000000  2200.000000  ...  2200.000000  2200.000000\n",
              "mean     50.551818    53.362727  ...     6.469480   103.463655\n",
              "std      36.917334    32.985883  ...     0.773938    54.958389\n",
              "min       0.000000     5.000000  ...     3.504752    20.211267\n",
              "25%      21.000000    28.000000  ...     5.971693    64.551686\n",
              "50%      37.000000    51.000000  ...     6.425045    94.867624\n",
              "75%      84.250000    68.000000  ...     6.923643   124.267508\n",
              "max     140.000000   145.000000  ...     9.935091   298.560117\n",
              "\n",
              "[8 rows x 7 columns]"
            ]
          },
          "metadata": {},
          "execution_count": 77
        }
      ]
    },
    {
      "cell_type": "code",
      "source": [
        "crop.columns"
      ],
      "metadata": {
        "colab": {
          "base_uri": "https://localhost:8080/"
        },
        "id": "y-g91ELhiQ0v",
        "outputId": "c0422ef6-bab2-423b-d795-fd0a5c82d4bf"
      },
      "execution_count": null,
      "outputs": [
        {
          "output_type": "execute_result",
          "data": {
            "text/plain": [
              "Index(['N', 'P', 'K', 'temperature', 'humidity', 'ph', 'rainfall', 'label'], dtype='object')"
            ]
          },
          "metadata": {},
          "execution_count": 87
        }
      ]
    },
    {
      "cell_type": "code",
      "source": [
        "crop.shape"
      ],
      "metadata": {
        "colab": {
          "base_uri": "https://localhost:8080/"
        },
        "id": "7RbjDl7GiTvw",
        "outputId": "f6b94007-f017-4d05-ff1c-2aaa9c70b52c"
      },
      "execution_count": null,
      "outputs": [
        {
          "output_type": "execute_result",
          "data": {
            "text/plain": [
              "(2200, 8)"
            ]
          },
          "metadata": {},
          "execution_count": 88
        }
      ]
    },
    {
      "cell_type": "code",
      "source": [
        "crop.label.unique()"
      ],
      "metadata": {
        "colab": {
          "base_uri": "https://localhost:8080/"
        },
        "id": "B5Ixlo3AiXSv",
        "outputId": "647da42d-284e-4738-b886-c23d889eddf5"
      },
      "execution_count": null,
      "outputs": [
        {
          "output_type": "execute_result",
          "data": {
            "text/plain": [
              "array(['rice', 'maize', 'chickpea', 'kidneybeans', 'pigeonpeas',\n",
              "       'mothbeans', 'mungbean', 'blackgram', 'lentil', 'pomegranate',\n",
              "       'banana', 'mango', 'grapes', 'watermelon', 'muskmelon', 'apple',\n",
              "       'orange', 'papaya', 'coconut', 'cotton', 'jute', 'coffee'],\n",
              "      dtype=object)"
            ]
          },
          "metadata": {},
          "execution_count": 89
        }
      ]
    },
    {
      "cell_type": "code",
      "source": [
        "crop.label.nunique()"
      ],
      "metadata": {
        "colab": {
          "base_uri": "https://localhost:8080/"
        },
        "id": "IoAwt8pFiav4",
        "outputId": "189e0984-9521-4fd4-8c84-6c13d3674229"
      },
      "execution_count": null,
      "outputs": [
        {
          "output_type": "execute_result",
          "data": {
            "text/plain": [
              "22"
            ]
          },
          "metadata": {},
          "execution_count": 81
        }
      ]
    },
    {
      "cell_type": "code",
      "source": [
        "crop.label.value_counts()"
      ],
      "metadata": {
        "colab": {
          "base_uri": "https://localhost:8080/"
        },
        "id": "qBqOUTnQii7H",
        "outputId": "fd24631d-4ac1-43aa-fce2-49dba69a5a4c"
      },
      "execution_count": null,
      "outputs": [
        {
          "output_type": "execute_result",
          "data": {
            "text/plain": [
              "banana         100\n",
              "pigeonpeas     100\n",
              "papaya         100\n",
              "orange         100\n",
              "maize          100\n",
              "grapes         100\n",
              "watermelon     100\n",
              "coconut        100\n",
              "blackgram      100\n",
              "rice           100\n",
              "pomegranate    100\n",
              "jute           100\n",
              "apple          100\n",
              "lentil         100\n",
              "mungbean       100\n",
              "muskmelon      100\n",
              "mango          100\n",
              "mothbeans      100\n",
              "coffee         100\n",
              "chickpea       100\n",
              "cotton         100\n",
              "kidneybeans    100\n",
              "Name: label, dtype: int64"
            ]
          },
          "metadata": {},
          "execution_count": 90
        }
      ]
    },
    {
      "cell_type": "code",
      "source": [
        "fig = plt.figure(figsize = (10,10))\n",
        "ax = fig.gca()\n",
        "crop.hist(ax=ax)"
      ],
      "metadata": {
        "colab": {
          "base_uri": "https://localhost:8080/",
          "height": 835
        },
        "id": "AsmZwG4TXAE3",
        "outputId": "c2fc951c-3790-4fb0-d4f8-09322a98dc79"
      },
      "execution_count": null,
      "outputs": [
        {
          "output_type": "stream",
          "name": "stderr",
          "text": [
            "/usr/local/lib/python3.7/dist-packages/ipykernel_launcher.py:3: UserWarning: To output multiple subplots, the figure containing the passed axes is being cleared\n",
            "  This is separate from the ipykernel package so we can avoid doing imports until\n"
          ]
        },
        {
          "output_type": "execute_result",
          "data": {
            "text/plain": [
              "array([[<matplotlib.axes._subplots.AxesSubplot object at 0x7feee3576210>,\n",
              "        <matplotlib.axes._subplots.AxesSubplot object at 0x7feee33a8910>,\n",
              "        <matplotlib.axes._subplots.AxesSubplot object at 0x7feee335fe50>],\n",
              "       [<matplotlib.axes._subplots.AxesSubplot object at 0x7feee3321390>,\n",
              "        <matplotlib.axes._subplots.AxesSubplot object at 0x7feee32d4890>,\n",
              "        <matplotlib.axes._subplots.AxesSubplot object at 0x7feee330c610>],\n",
              "       [<matplotlib.axes._subplots.AxesSubplot object at 0x7feee32c4b10>,\n",
              "        <matplotlib.axes._subplots.AxesSubplot object at 0x7feee3284050>,\n",
              "        <matplotlib.axes._subplots.AxesSubplot object at 0x7feee32188d0>]],\n",
              "      dtype=object)"
            ]
          },
          "metadata": {},
          "execution_count": 91
        },
        {
          "output_type": "display_data",
          "data": {
            "image/png": "[encoded data removed]",
            "text/plain": [
              "<Figure size 720x720 with 9 Axes>"
            ]
          },
          "metadata": {}
        }
      ]
    },
    {
      "cell_type": "code",
      "source": [
        "#feature selection, checking correlated features\n",
        "corr = crop.corr(method='pearson')\n",
        "plt.figure(figsize=(10,10))\n",
        "plt.title('Correlation between different features', fontsize = 15)\n",
        "sns.heatmap(corr, annot=True, cmap='viridis')\n"
      ],
      "metadata": {
        "colab": {
          "base_uri": "https://localhost:8080/",
          "height": 626
        },
        "id": "WpfZ8muKjFTw",
        "outputId": "ff79d945-3295-4c36-a140-e520746a20d1"
      },
      "execution_count": null,
      "outputs": [
        {
          "output_type": "execute_result",
          "data": {
            "text/plain": [
              "<matplotlib.axes._subplots.AxesSubplot at 0x7feee3095290>"
            ]
          },
          "metadata": {},
          "execution_count": 92
        },
        {
          "output_type": "display_data",
          "data": {
            "image/png": "[encoded data removed]",
            "text/plain": [
              "<Figure size 720x720 with 2 Axes>"
            ]
          },
          "metadata": {}
        }
      ]
    },
    {
      "cell_type": "code",
      "source": [
        "#checking if the dataset is balanced\n",
        "sns.set_style('whitegrid')\n",
        "plt.figure(figsize=(10,10))\n",
        "sns.countplot(x='label',data=crop)"
      ],
      "metadata": {
        "colab": {
          "base_uri": "https://localhost:8080/",
          "height": 623
        },
        "id": "ldTPMIaVrHGY",
        "outputId": "6e61b54f-f575-4276-80ff-7018d05642d6"
      },
      "execution_count": null,
      "outputs": [
        {
          "output_type": "execute_result",
          "data": {
            "text/plain": [
              "<matplotlib.axes._subplots.AxesSubplot at 0x7feee2ffcc90>"
            ]
          },
          "metadata": {},
          "execution_count": 93
        },
        {
          "output_type": "display_data",
          "data": {
            "image/png": "[encoded data removed]",
            "text/plain": [
              "<Figure size 720x720 with 1 Axes>"
            ]
          },
          "metadata": {}
        }
      ]
    },
    {
      "cell_type": "code",
      "source": [
        "crop.to_csv('/content/crop_recommendationss.csv')"
      ],
      "metadata": {
        "id": "y8q7rzFQhTA1"
      },
      "execution_count": null,
      "outputs": []
    },
    {
      "cell_type": "markdown",
      "source": [
        "# Feature Selection"
      ],
      "metadata": {
        "id": "sAqm8LLTq5Fp"
      }
    },
    {
      "cell_type": "code",
      "source": [
        "y = crop['label']\n",
        "X = crop.drop(['label'], axis = 1)"
      ],
      "metadata": {
        "id": "-38RNuoojKXX"
      },
      "execution_count": null,
      "outputs": []
    },
    {
      "cell_type": "code",
      "source": [
        "acc = []\n",
        "models = []"
      ],
      "metadata": {
        "id": "dimPuqhEsgdt"
      },
      "execution_count": null,
      "outputs": []
    },
    {
      "cell_type": "code",
      "source": [
        "from sklearn.model_selection import train_test_split\n",
        "x_train, x_test, y_train, y_test = train_test_split(X,y,test_size = 0.2,random_state =2)"
      ],
      "metadata": {
        "id": "SjFPnI76sggG"
      },
      "execution_count": null,
      "outputs": []
    },
    {
      "cell_type": "markdown",
      "source": [
        "# **Model Creation**"
      ],
      "metadata": {
        "id": "b3N6UoaftTL_"
      }
    },
    {
      "cell_type": "markdown",
      "source": [
        "# 1. Random Forest"
      ],
      "metadata": {
        "id": "KTagBtz-tXl5"
      }
    },
    {
      "cell_type": "code",
      "source": [
        "from sklearn.ensemble import RandomForestClassifier\n",
        "\n",
        "RF = RandomForestClassifier(n_estimators=20, random_state=0)\n",
        "RF.fit(x_train,y_train)\n",
        "\n",
        "rf_y_pred = RF.predict(x_test)\n",
        "\n",
        "rf_accuracy = metrics.accuracy_score(y_test, rf_y_pred)\n",
        "\n",
        "print(\"Random Forest's Accuracy is: \", rf_accuracy)\n",
        "\n",
        "score = cross_val_score(RF,X,y,cv=5)\n",
        "print('Cross validation Score: ',score)"
      ],
      "metadata": {
        "colab": {
          "base_uri": "https://localhost:8080/"
        },
        "id": "ctnfIxXQvXU_",
        "outputId": "abf9f16e-0eb5-4b49-89fd-014b3a8a01ef"
      },
      "execution_count": null,
      "outputs": [
        {
          "output_type": "stream",
          "name": "stdout",
          "text": [
            "Random Forest's Accuracy is:  0.990909090909091\n",
            "Cross validation Score:  [0.99772727 0.99545455 0.99772727 0.99318182 0.98863636]\n"
          ]
        }
      ]
    },
    {
      "cell_type": "code",
      "source": [
        "acc.append(rf_accuracy)\n",
        "models.append('Random Forest')"
      ],
      "metadata": {
        "id": "12pagRYH1pGT"
      },
      "execution_count": null,
      "outputs": []
    },
    {
      "cell_type": "code",
      "source": [
        "with open('randomf.pkl', 'wb') as f:\n",
        "  pickle.dump(RF, f)"
      ],
      "metadata": {
        "id": "L9IDP7Ez3pGp"
      },
      "execution_count": null,
      "outputs": []
    },
    {
      "cell_type": "code",
      "source": [
        "# \tN\tP\tK\ttemperature\thumidity\tph\trainfall\tlabel\n",
        "# RF.predict([[12,34,65,56,45,5,65]])\n",
        "data = np.array([[45, 65, 34, 16.95, 22, 5, 23]])\n",
        "RF.predict(data)"
      ],
      "metadata": {
        "colab": {
          "base_uri": "https://localhost:8080/"
        },
        "id": "QuqQSTgG2YRL",
        "outputId": "137326b5-f367-45d1-97ab-9cdead34d4ea"
      },
      "execution_count": null,
      "outputs": [
        {
          "output_type": "stream",
          "name": "stderr",
          "text": [
            "/usr/local/lib/python3.7/dist-packages/sklearn/base.py:446: UserWarning: X does not have valid feature names, but RandomForestClassifier was fitted with feature names\n",
            "  \"X does not have valid feature names, but\"\n"
          ]
        },
        {
          "output_type": "execute_result",
          "data": {
            "text/plain": [
              "array(['kidneybeans'], dtype=object)"
            ]
          },
          "metadata": {},
          "execution_count": 41
        }
      ]
    },
    {
      "cell_type": "code",
      "source": [
        "# model_path = '/content/randomf.pkl'\n",
        "# model = pickle.load(open(model_path,'rb'))\n",
        "# data = np.array([[45, 65, 34, 16.95, 22, 5, 23]])\n",
        "# model.predict(data)\n"
      ],
      "metadata": {
        "id": "rySz6irbFkRC"
      },
      "execution_count": null,
      "outputs": []
    },
    {
      "cell_type": "markdown",
      "source": [
        "# 2. XG boost"
      ],
      "metadata": {
        "id": "DrmhVuvV4C_I"
      }
    },
    {
      "cell_type": "code",
      "source": [
        "import xgboost as xgb\n",
        "XB = xgb.XGBClassifier(n_estimators=20)\n",
        "XB.fit(x_train,y_train)\n",
        "\n",
        "xg_y_pred = XB.predict(x_test)\n",
        "xg_accuracy = metrics.accuracy_score(y_test, xg_y_pred);\n",
        "\n",
        "print(\"XGBoost Accuracy is: \", xg_accuracy)\n",
        "\n",
        "score = cross_val_score(XB,X,y,cv=5)\n",
        "print('Cross validation Score: ',score)"
      ],
      "metadata": {
        "colab": {
          "base_uri": "https://localhost:8080/"
        },
        "id": "d1aDKOBz4J2I",
        "outputId": "5c2ab128-fb9a-4b55-8e00-5513bb398239"
      },
      "execution_count": null,
      "outputs": [
        {
          "output_type": "stream",
          "name": "stdout",
          "text": [
            "XGBoost Accuracy is:  0.9818181818181818\n",
            "Cross validation Score:  [0.97954545 0.99090909 0.98863636 0.99090909 0.98863636]\n"
          ]
        }
      ]
    },
    {
      "cell_type": "code",
      "source": [
        "acc.append(xg_accuracy)\n",
        "models.append('XGBoost')"
      ],
      "metadata": {
        "id": "Mm0R8xQ95Gnw"
      },
      "execution_count": null,
      "outputs": []
    },
    {
      "cell_type": "code",
      "source": [
        "with open('xg_boost.pkl', 'wb') as f:\n",
        "  pickle.dump(XB, f)"
      ],
      "metadata": {
        "id": "t8m8ctr_5c5A"
      },
      "execution_count": null,
      "outputs": []
    },
    {
      "cell_type": "markdown",
      "source": [
        "# 3. Logistic Regression"
      ],
      "metadata": {
        "id": "WhTiFclctaFn"
      }
    },
    {
      "cell_type": "code",
      "source": [
        "# coping the data set\n",
        "crop2 = crop.copy()\n",
        "scale_columns = ['N', 'P', 'K', 'temperature', 'humidity', 'ph', 'rainfall'];"
      ],
      "metadata": {
        "id": "awWoZYEFViTK"
      },
      "execution_count": null,
      "outputs": []
    },
    {
      "cell_type": "code",
      "source": [
        "# perform standard scaling\n",
        "standardScaler = StandardScaler()\n",
        "crop2[scale_columns] = standardScaler.fit_transform(crop2[scale_columns])"
      ],
      "metadata": {
        "id": "y1SQqNMeWdS3"
      },
      "execution_count": null,
      "outputs": []
    },
    {
      "cell_type": "code",
      "source": [
        "fig = plt.figure(figsize = (10,10))\n",
        "ax = fig.gca()\n",
        "crop2.hist(ax=ax)"
      ],
      "metadata": {
        "id": "lmr4aiewYk3m",
        "colab": {
          "base_uri": "https://localhost:8080/",
          "height": 835
        },
        "outputId": "f078491e-b21d-45aa-be51-082588bdb3aa"
      },
      "execution_count": null,
      "outputs": [
        {
          "output_type": "stream",
          "name": "stderr",
          "text": [
            "/usr/local/lib/python3.7/dist-packages/ipykernel_launcher.py:3: UserWarning: To output multiple subplots, the figure containing the passed axes is being cleared\n",
            "  This is separate from the ipykernel package so we can avoid doing imports until\n"
          ]
        },
        {
          "output_type": "execute_result",
          "data": {
            "text/plain": [
              "array([[<matplotlib.axes._subplots.AxesSubplot object at 0x7feee2e95390>,\n",
              "        <matplotlib.axes._subplots.AxesSubplot object at 0x7feee2e28d10>,\n",
              "        <matplotlib.axes._subplots.AxesSubplot object at 0x7feee2de8350>],\n",
              "       [<matplotlib.axes._subplots.AxesSubplot object at 0x7feee2d98a10>,\n",
              "        <matplotlib.axes._subplots.AxesSubplot object at 0x7feee2d59050>,\n",
              "        <matplotlib.axes._subplots.AxesSubplot object at 0x7feee2d11650>],\n",
              "       [<matplotlib.axes._subplots.AxesSubplot object at 0x7feee2d4bc50>,\n",
              "        <matplotlib.axes._subplots.AxesSubplot object at 0x7feee2d0a250>,\n",
              "        <matplotlib.axes._subplots.AxesSubplot object at 0x7feee2c9cad0>]],\n",
              "      dtype=object)"
            ]
          },
          "metadata": {},
          "execution_count": 105
        },
        {
          "output_type": "display_data",
          "data": {
            "image/png": "[encoded data removed]",
            "text/plain": [
              "<Figure size 720x720 with 9 Axes>"
            ]
          },
          "metadata": {}
        }
      ]
    },
    {
      "cell_type": "code",
      "source": [
        "crop2.head()"
      ],
      "metadata": {
        "id": "uJ911eSeXzaI",
        "colab": {
          "base_uri": "https://localhost:8080/",
          "height": 206
        },
        "outputId": "7417e126-3af6-4902-8d28-3ed6a4d5c403"
      },
      "execution_count": null,
      "outputs": [
        {
          "output_type": "execute_result",
          "data": {
            "text/html": [
              "<div>\n",
              "<style scoped>\n",
              "    .dataframe tbody tr th:only-of-type {\n",
              "        vertical-align: middle;\n",
              "    }\n",
              "\n",
              "    .dataframe tbody tr th {\n",
              "        vertical-align: top;\n",
              "    }\n",
              "\n",
              "    .dataframe thead th {\n",
              "        text-align: right;\n",
              "    }\n",
              "</style>\n",
              "<table border=\"1\" class=\"dataframe\">\n",
              "  <thead>\n",
              "    <tr style=\"text-align: right;\">\n",
              "      <th></th>\n",
              "      <th>N</th>\n",
              "      <th>P</th>\n",
              "      <th>K</th>\n",
              "      <th>temperature</th>\n",
              "      <th>humidity</th>\n",
              "      <th>ph</th>\n",
              "      <th>rainfall</th>\n",
              "      <th>label</th>\n",
              "    </tr>\n",
              "  </thead>\n",
              "  <tbody>\n",
              "    <tr>\n",
              "      <th>0</th>\n",
              "      <td>1.068797</td>\n",
              "      <td>-0.344551</td>\n",
              "      <td>-0.101688</td>\n",
              "      <td>-0.935587</td>\n",
              "      <td>0.472666</td>\n",
              "      <td>0.043302</td>\n",
              "      <td>1.810361</td>\n",
              "      <td>rice</td>\n",
              "    </tr>\n",
              "    <tr>\n",
              "      <th>1</th>\n",
              "      <td>0.933329</td>\n",
              "      <td>0.140616</td>\n",
              "      <td>-0.141185</td>\n",
              "      <td>-0.759646</td>\n",
              "      <td>0.397051</td>\n",
              "      <td>0.734873</td>\n",
              "      <td>2.242058</td>\n",
              "      <td>rice</td>\n",
              "    </tr>\n",
              "    <tr>\n",
              "      <th>2</th>\n",
              "      <td>0.255986</td>\n",
              "      <td>0.049647</td>\n",
              "      <td>-0.081939</td>\n",
              "      <td>-0.515898</td>\n",
              "      <td>0.486954</td>\n",
              "      <td>1.771510</td>\n",
              "      <td>2.921066</td>\n",
              "      <td>rice</td>\n",
              "    </tr>\n",
              "    <tr>\n",
              "      <th>3</th>\n",
              "      <td>0.635298</td>\n",
              "      <td>-0.556811</td>\n",
              "      <td>-0.160933</td>\n",
              "      <td>0.172807</td>\n",
              "      <td>0.389805</td>\n",
              "      <td>0.660308</td>\n",
              "      <td>2.537048</td>\n",
              "      <td>rice</td>\n",
              "    </tr>\n",
              "    <tr>\n",
              "      <th>4</th>\n",
              "      <td>0.743673</td>\n",
              "      <td>-0.344551</td>\n",
              "      <td>-0.121436</td>\n",
              "      <td>-1.083647</td>\n",
              "      <td>0.454792</td>\n",
              "      <td>1.497868</td>\n",
              "      <td>2.898373</td>\n",
              "      <td>rice</td>\n",
              "    </tr>\n",
              "  </tbody>\n",
              "</table>\n",
              "</div>"
            ],
            "text/plain": [
              "          N         P         K  ...        ph  rainfall  label\n",
              "0  1.068797 -0.344551 -0.101688  ...  0.043302  1.810361   rice\n",
              "1  0.933329  0.140616 -0.141185  ...  0.734873  2.242058   rice\n",
              "2  0.255986  0.049647 -0.081939  ...  1.771510  2.921066   rice\n",
              "3  0.635298 -0.556811 -0.160933  ...  0.660308  2.537048   rice\n",
              "4  0.743673 -0.344551 -0.121436  ...  1.497868  2.898373   rice\n",
              "\n",
              "[5 rows x 8 columns]"
            ]
          },
          "metadata": {},
          "execution_count": 106
        }
      ]
    },
    {
      "cell_type": "code",
      "source": [
        "crop2.to_csv('/content/crop_recommendation_scaled.csv')"
      ],
      "metadata": {
        "id": "Mg1MJyW-horV"
      },
      "execution_count": null,
      "outputs": []
    },
    {
      "cell_type": "code",
      "source": [
        "y2 = crop2['label']\n",
        "X2 = crop2.drop(['label'], axis = 1)\n",
        "x_train2, x_test2, y_train2, y_test2 = train_test_split(X2,y2,test_size = 0.2,random_state =2)"
      ],
      "metadata": {
        "id": "uiyyeU5zZVjU"
      },
      "execution_count": null,
      "outputs": []
    },
    {
      "cell_type": "code",
      "source": [
        "from sklearn.linear_model import LogisticRegression\n",
        "\n",
        "LR = LogisticRegression(random_state=2)\n",
        "LR.fit(x_train2, y_train2)\n",
        "lr_y_pred = LR.predict(x_test2)\n",
        "lg_accuracy = metrics.accuracy_score(y_test2, lr_y_pred)\n",
        "\n",
        "print(\"Logistic Regression's Accuracy is: \", lg_accuracy)"
      ],
      "metadata": {
        "colab": {
          "base_uri": "https://localhost:8080/"
        },
        "id": "1o99_kU-Uf4e",
        "outputId": "26275eb4-811b-409f-9414-b6e4478ec92d"
      },
      "execution_count": null,
      "outputs": [
        {
          "output_type": "stream",
          "name": "stdout",
          "text": [
            "Logistic Regression's Accuracy is:  0.9636363636363636\n"
          ]
        }
      ]
    },
    {
      "cell_type": "code",
      "source": [
        "# Warning\n",
        "# score = cross_val_score(LR,X2,y2, cv=5)\n",
        "# print('Cross validation Score: ',score)"
      ],
      "metadata": {
        "id": "ErqC20Zbcvfo"
      },
      "execution_count": null,
      "outputs": []
    },
    {
      "cell_type": "code",
      "source": [
        "acc.append(lg_accuracy)\n",
        "models.append('Logistic Regression')"
      ],
      "metadata": {
        "id": "-1ichWGmU2Ml"
      },
      "execution_count": null,
      "outputs": []
    },
    {
      "cell_type": "code",
      "source": [
        "with open('logistic_reg.pkl', 'wb') as f:\n",
        "  pickle.dump(LR, f)"
      ],
      "metadata": {
        "id": "8olxvE5oagn4"
      },
      "execution_count": null,
      "outputs": []
    },
    {
      "cell_type": "code",
      "source": [
        "# model_path = '/content/logistic_reg.pkl'\n",
        "# model = pickle.load(open(model_path,'rb'))\n",
        "# data = np.array([[45, 65, 34, 16.95, 22, 5, 23]])\n",
        "# model.predict(data)"
      ],
      "metadata": {
        "id": "E5jbVK8VJmTt"
      },
      "execution_count": null,
      "outputs": []
    },
    {
      "cell_type": "markdown",
      "source": [
        "# Comparing Accuracies "
      ],
      "metadata": {
        "id": "EzfitpyLb7bw"
      }
    },
    {
      "cell_type": "code",
      "source": [
        "plt.figure(figsize=[10,5],dpi = 100)\n",
        "plt.title('Accuracy Comparison')\n",
        "plt.xlabel('Accuracy')\n",
        "plt.ylabel('Algorithm')\n",
        "sns.barplot(x = acc,y = models,palette='dark')"
      ],
      "metadata": {
        "colab": {
          "base_uri": "https://localhost:8080/",
          "height": 473
        },
        "id": "FAKXVFnMb2uf",
        "outputId": "d6503699-639c-4acf-f1e3-5bff3a7541fb"
      },
      "execution_count": null,
      "outputs": [
        {
          "output_type": "execute_result",
          "data": {
            "text/plain": [
              "<matplotlib.axes._subplots.AxesSubplot at 0x7feee2a1e410>"
            ]
          },
          "metadata": {},
          "execution_count": 115
        },
        {
          "output_type": "display_data",
          "data": {
            "image/png": "[encoded data removed]",
            "text/plain": [
              "<Figure size 1000x500 with 1 Axes>"
            ]
          },
          "metadata": {}
        }
      ]
    },
    {
      "cell_type": "code",
      "source": [
        "accuracy_models = dict(zip(models, acc))\n",
        "for k, v in accuracy_models.items():\n",
        "    print (k, '-->', v)"
      ],
      "metadata": {
        "id": "k0rb2GjlgtWx",
        "colab": {
          "base_uri": "https://localhost:8080/"
        },
        "outputId": "76907784-d9fc-4c29-fa76-03da945531f8"
      },
      "execution_count": null,
      "outputs": [
        {
          "output_type": "stream",
          "name": "stdout",
          "text": [
            "XGBoost --> 0.9818181818181818\n",
            "Logistic Regression --> 0.9636363636363636\n",
            "Random Forest --> 0.990909090909091\n"
          ]
        }
      ]
    }
  ]
}